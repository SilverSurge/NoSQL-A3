{
 "cells": [
  {
   "cell_type": "code",
   "execution_count": 14,
   "metadata": {},
   "outputs": [],
   "source": [
    "# imports\n",
    "import pandas as pd\n",
    "import numpy as np"
   ]
  },
  {
   "cell_type": "code",
   "execution_count": 2,
   "metadata": {},
   "outputs": [],
   "source": [
    "# take in the yago dataset\n",
    "df = pd.read_csv(\"../data/yago.tsv\", sep=\" \", names=[\"Subject\", \"Predicate\", \"Object\"])"
   ]
  },
  {
   "cell_type": "code",
   "execution_count": 3,
   "metadata": {},
   "outputs": [
    {
     "data": {
      "text/html": [
       "<div>\n",
       "<style scoped>\n",
       "    .dataframe tbody tr th:only-of-type {\n",
       "        vertical-align: middle;\n",
       "    }\n",
       "\n",
       "    .dataframe tbody tr th {\n",
       "        vertical-align: top;\n",
       "    }\n",
       "\n",
       "    .dataframe thead th {\n",
       "        text-align: right;\n",
       "    }\n",
       "</style>\n",
       "<table border=\"1\" class=\"dataframe\">\n",
       "  <thead>\n",
       "    <tr style=\"text-align: right;\">\n",
       "      <th></th>\n",
       "      <th>Subject</th>\n",
       "      <th>Predicate</th>\n",
       "      <th>Object</th>\n",
       "    </tr>\n",
       "  </thead>\n",
       "  <tbody>\n",
       "    <tr>\n",
       "      <th>0</th>\n",
       "      <td>&lt;Jesús_Rivera_Sánchez&gt;</td>\n",
       "      <td>&lt;isLeaderOf&gt;</td>\n",
       "      <td>&lt;Pueblo_of_Naranjito&gt;</td>\n",
       "    </tr>\n",
       "    <tr>\n",
       "      <th>1</th>\n",
       "      <td>&lt;Elizabeth_II&gt;</td>\n",
       "      <td>&lt;isLeaderOf&gt;</td>\n",
       "      <td>&lt;Royal_Numismatic_Society&gt;</td>\n",
       "    </tr>\n",
       "    <tr>\n",
       "      <th>2</th>\n",
       "      <td>&lt;Richard_Stallman&gt;</td>\n",
       "      <td>&lt;isLeaderOf&gt;</td>\n",
       "      <td>&lt;Free_Software_Foundation&gt;</td>\n",
       "    </tr>\n",
       "    <tr>\n",
       "      <th>3</th>\n",
       "      <td>&lt;Keith_Peterson&gt;</td>\n",
       "      <td>&lt;isLeaderOf&gt;</td>\n",
       "      <td>&lt;Cambridge_Bay&gt;</td>\n",
       "    </tr>\n",
       "    <tr>\n",
       "      <th>4</th>\n",
       "      <td>&lt;William_H._Seward_Jr.&gt;</td>\n",
       "      <td>&lt;isLeaderOf&gt;</td>\n",
       "      <td>&lt;9th_New_York_Heavy_Artillery_Regiment&gt;</td>\n",
       "    </tr>\n",
       "  </tbody>\n",
       "</table>\n",
       "</div>"
      ],
      "text/plain": [
       "                   Subject     Predicate  \\\n",
       "0   <Jesús_Rivera_Sánchez>  <isLeaderOf>   \n",
       "1           <Elizabeth_II>  <isLeaderOf>   \n",
       "2       <Richard_Stallman>  <isLeaderOf>   \n",
       "3         <Keith_Peterson>  <isLeaderOf>   \n",
       "4  <William_H._Seward_Jr.>  <isLeaderOf>   \n",
       "\n",
       "                                    Object  \n",
       "0                    <Pueblo_of_Naranjito>  \n",
       "1               <Royal_Numismatic_Society>  \n",
       "2               <Free_Software_Foundation>  \n",
       "3                          <Cambridge_Bay>  \n",
       "4  <9th_New_York_Heavy_Artillery_Regiment>  "
      ]
     },
     "execution_count": 3,
     "metadata": {},
     "output_type": "execute_result"
    }
   ],
   "source": [
    "# looking at the heads\n",
    "df.head()"
   ]
  },
  {
   "cell_type": "code",
   "execution_count": 4,
   "metadata": {},
   "outputs": [
    {
     "data": {
      "text/plain": [
       "<isCitizenOf>           2141725\n",
       "<hasFamilyName>         2002574\n",
       "<hasGivenName>          1984813\n",
       "<hasGender>             1972842\n",
       "<isAffiliatedTo>        1204540\n",
       "<wasBornIn>              848846\n",
       "<playsFor>               783254\n",
       "<created>                485392\n",
       "<hasWebsite>             348962\n",
       "<actedIn>                308042\n",
       "<diedIn>                 257880\n",
       "<hasWonPrize>            146079\n",
       "<graduatedFrom>          142137\n",
       "<directed>                91619\n",
       "<livesIn>                 71147\n",
       "<wroteMusicFor>           59515\n",
       "<isMarriedTo>             53039\n",
       "<hasMusicalRole>          52617\n",
       "<owns>                    50185\n",
       "<hasChild>                44643\n",
       "<participatedIn>          39202\n",
       "<isPoliticianOf>          35882\n",
       "<influences>              31169\n",
       "<worksAt>                 27611\n",
       "<edited>                  20083\n",
       "<isLeaderOf>              18471\n",
       "<hasAcademicAdvisor>       9640\n",
       "<isInterestedIn>           2110\n",
       "<isKnownFor>               1092\n",
       "Name: Predicate, dtype: int64"
      ]
     },
     "execution_count": 4,
     "metadata": {},
     "output_type": "execute_result"
    }
   ],
   "source": [
    "# finding the top  predicates\n",
    "df[\"Predicate\"].value_counts()"
   ]
  },
  {
   "cell_type": "code",
   "execution_count": 12,
   "metadata": {},
   "outputs": [],
   "source": [
    "def fun(sub, pre):\n",
    "    temp_1 = np.array(df[\"Subject\"] == sub)\n",
    "    temp_2 = np.array(df[\"Predicate\"] == pre)\n",
    "    for i in range(len(temp_1)):\n",
    "        temp_1[i] = temp_1[i] and temp_2[i]\n",
    "    return len(df[temp_1 & temp_2])"
   ]
  },
  {
   "cell_type": "code",
   "execution_count": 13,
   "metadata": {},
   "outputs": [
    {
     "ename": "KeyboardInterrupt",
     "evalue": "",
     "output_type": "error",
     "traceback": [
      "\u001b[1;31m---------------------------------------------------------------------------\u001b[0m",
      "\u001b[1;31mKeyboardInterrupt\u001b[0m                         Traceback (most recent call last)",
      "Cell \u001b[1;32mIn[13], line 1\u001b[0m\n\u001b[1;32m----> 1\u001b[0m fun(\u001b[38;5;124m\"\u001b[39m\u001b[38;5;124m<Ron_Mann>\u001b[39m\u001b[38;5;124m\"\u001b[39m, \u001b[38;5;124m\"\u001b[39m\u001b[38;5;124mdirected\u001b[39m\u001b[38;5;124m\"\u001b[39m)\n",
      "Cell \u001b[1;32mIn[12], line 5\u001b[0m, in \u001b[0;36mfun\u001b[1;34m(sub, pre)\u001b[0m\n\u001b[0;32m      3\u001b[0m temp_2 \u001b[38;5;241m=\u001b[39m df[\u001b[38;5;124m\"\u001b[39m\u001b[38;5;124mPredicate\u001b[39m\u001b[38;5;124m\"\u001b[39m] \u001b[38;5;241m==\u001b[39m pre\n\u001b[0;32m      4\u001b[0m \u001b[38;5;28;01mfor\u001b[39;00m i \u001b[38;5;129;01min\u001b[39;00m \u001b[38;5;28mrange\u001b[39m(\u001b[38;5;28mlen\u001b[39m(temp_1)):\n\u001b[1;32m----> 5\u001b[0m     temp_1[i] \u001b[38;5;241m=\u001b[39m temp_1[i] \u001b[38;5;129;01mand\u001b[39;00m temp_2[i]\n\u001b[0;32m      6\u001b[0m \u001b[38;5;28;01mreturn\u001b[39;00m \u001b[38;5;28mlen\u001b[39m(df[temp_1])\n",
      "File \u001b[1;32mc:\\Users\\DeepKumar_Patel\\anaconda3\\envs\\my_env\\Lib\\site-packages\\pandas\\core\\series.py:1095\u001b[0m, in \u001b[0;36mSeries.__setitem__\u001b[1;34m(self, key, value)\u001b[0m\n\u001b[0;32m   1093\u001b[0m check_deprecated_indexers(key)\n\u001b[0;32m   1094\u001b[0m key \u001b[38;5;241m=\u001b[39m com\u001b[38;5;241m.\u001b[39mapply_if_callable(key, \u001b[38;5;28mself\u001b[39m)\n\u001b[1;32m-> 1095\u001b[0m cacher_needs_updating \u001b[38;5;241m=\u001b[39m \u001b[38;5;28mself\u001b[39m\u001b[38;5;241m.\u001b[39m_check_is_chained_assignment_possible()\n\u001b[0;32m   1097\u001b[0m \u001b[38;5;28;01mif\u001b[39;00m key \u001b[38;5;129;01mis\u001b[39;00m \u001b[38;5;28mEllipsis\u001b[39m:\n\u001b[0;32m   1098\u001b[0m     key \u001b[38;5;241m=\u001b[39m \u001b[38;5;28mslice\u001b[39m(\u001b[38;5;28;01mNone\u001b[39;00m)\n",
      "File \u001b[1;32mc:\\Users\\DeepKumar_Patel\\anaconda3\\envs\\my_env\\Lib\\site-packages\\pandas\\core\\series.py:1287\u001b[0m, in \u001b[0;36mSeries._check_is_chained_assignment_possible\u001b[1;34m(self)\u001b[0m\n\u001b[0;32m   1285\u001b[0m         \u001b[38;5;28mself\u001b[39m\u001b[38;5;241m.\u001b[39m_check_setitem_copy(t\u001b[38;5;241m=\u001b[39m\u001b[38;5;124m\"\u001b[39m\u001b[38;5;124mreferent\u001b[39m\u001b[38;5;124m\"\u001b[39m, force\u001b[38;5;241m=\u001b[39m\u001b[38;5;28;01mTrue\u001b[39;00m)\n\u001b[0;32m   1286\u001b[0m     \u001b[38;5;28;01mreturn\u001b[39;00m \u001b[38;5;28;01mTrue\u001b[39;00m\n\u001b[1;32m-> 1287\u001b[0m \u001b[38;5;28;01mreturn\u001b[39;00m \u001b[38;5;28msuper\u001b[39m()\u001b[38;5;241m.\u001b[39m_check_is_chained_assignment_possible()\n",
      "\u001b[1;31mKeyboardInterrupt\u001b[0m: "
     ]
    }
   ],
   "source": [
    "fun(\"<Ron_Mann>\", \"directed\")"
   ]
  }
 ],
 "metadata": {
  "kernelspec": {
   "display_name": "my_env",
   "language": "python",
   "name": "python3"
  },
  "language_info": {
   "codemirror_mode": {
    "name": "ipython",
    "version": 3
   },
   "file_extension": ".py",
   "mimetype": "text/x-python",
   "name": "python",
   "nbconvert_exporter": "python",
   "pygments_lexer": "ipython3",
   "version": "3.11.3"
  }
 },
 "nbformat": 4,
 "nbformat_minor": 2
}
